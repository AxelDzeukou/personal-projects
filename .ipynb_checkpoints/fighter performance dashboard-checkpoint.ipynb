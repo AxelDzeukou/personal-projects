{
 "cells": [
  {
   "cell_type": "code",
   "execution_count": null,
   "id": "45ae7989-cb41-4af3-bd90-37becea1cf55",
   "metadata": {},
   "outputs": [],
   "source": [
    "# 1. Fighter Performance Dashboard\n",
    "# Goal: Track a fighter’s career statistics over time.\n",
    "\n",
    "# Skills: SQL, data wrangling, Power BI / Tableau / Python (Matplotlib, Seaborn)\n",
    "\n",
    "# Insights:\n",
    "\n",
    "# Which round do they usually finish fights in?\n",
    "\n",
    "# Do they tend to win by KO, decision, or submission?\n",
    "\n",
    "# Compare wins vs. losses by time and location.\n",
    "\n",
    "\n",
    "#data\n",
    "    #i need a table with all the fights that have happened\n",
    "    #i need a table with each fighters career stats. have to first filter out the fighters that are active"
   ]
  },
  {
   "cell_type": "code",
   "execution_count": null,
   "id": "7c9d2f5a-da1e-4e30-8c2a-1bfb58368200",
   "metadata": {},
   "outputs": [],
   "source": []
  }
 ],
 "metadata": {
  "kernelspec": {
   "display_name": "Python 3 (ipykernel)",
   "language": "python",
   "name": "python3"
  },
  "language_info": {
   "codemirror_mode": {
    "name": "ipython",
    "version": 3
   },
   "file_extension": ".py",
   "mimetype": "text/x-python",
   "name": "python",
   "nbconvert_exporter": "python",
   "pygments_lexer": "ipython3",
   "version": "3.12.9"
  }
 },
 "nbformat": 4,
 "nbformat_minor": 5
}
