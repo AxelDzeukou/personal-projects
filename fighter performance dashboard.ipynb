{
 "cells": [
  {
   "cell_type": "code",
   "execution_count": null,
   "id": "45ae7989-cb41-4af3-bd90-37becea1cf55",
   "metadata": {},
   "outputs": [],
   "source": [
    "# 1. Fighter Performance Dashboard\n",
    "# Goal: Track a fighter’s career statistics over time.\n",
    "\n",
    "# Skills: SQL, data wrangling, Power BI / Tableau / Python (Matplotlib, Seaborn)\n",
    "\n",
    "# Insights:\n",
    "\n",
    "# Which round do they usually finish fights in?\n",
    "\n",
    "# Do they tend to win by KO, decision, or submission?\n",
    "\n",
    "# Compare wins vs. losses by time and location.\n",
    "\n",
    "\n",
    "#data\n",
    "    #i need a table with all the fights that have happened\n",
    "    #i need a table with each fighters career stats. have to first filter out the fighters that are active"
   ]
  },
  {
   "cell_type": "code",
   "execution_count": 4,
   "id": "7c9d2f5a-da1e-4e30-8c2a-1bfb58368200",
   "metadata": {
    "execution": {
     "iopub.execute_input": "2025-08-24T12:33:57.733698Z",
     "iopub.status.busy": "2025-08-24T12:33:57.733698Z",
     "iopub.status.idle": "2025-08-24T12:33:58.518558Z",
     "shell.execute_reply": "2025-08-24T12:33:58.518558Z",
     "shell.execute_reply.started": "2025-08-24T12:33:57.733698Z"
    }
   },
   "outputs": [
    {
     "name": "stdout",
     "output_type": "stream",
     "text": [
      "Path to dataset files: C:\\Users\\admin\\.cache\\kagglehub\\datasets\\asaniczka\\ufc-fighters-statistics\\versions\\16\n",
      "Files in dataset: ['ufc-fighters-statistics.csv']\n"
     ]
    }
   ],
   "source": [
    "import kagglehub\n",
    "import pandas as pd\n",
    "import os\n",
    "\n",
    "# Download latest version\n",
    "path = kagglehub.dataset_download(\"asaniczka/ufc-fighters-statistics\")\n",
    "\n",
    "print(\"Path to dataset files:\", path)\n",
    "\n",
    "# List files inside the dataset folder\n",
    "print(\"Files in dataset:\", os.listdir(path))\n",
    "\n"
   ]
  },
  {
   "cell_type": "code",
   "execution_count": 5,
   "id": "dccf4edb-e31d-4076-a9d6-9b380e5616e9",
   "metadata": {
    "execution": {
     "iopub.execute_input": "2025-08-24T12:34:45.223175Z",
     "iopub.status.busy": "2025-08-24T12:34:45.223175Z",
     "iopub.status.idle": "2025-08-24T12:34:45.243822Z",
     "shell.execute_reply": "2025-08-24T12:34:45.243822Z",
     "shell.execute_reply.started": "2025-08-24T12:34:45.223175Z"
    }
   },
   "outputs": [
    {
     "name": "stdout",
     "output_type": "stream",
     "text": [
      "                name    nickname  wins  losses  draws  height_cm  \\\n",
      "0    Robert Drysdale         NaN     7       0      0     190.50   \n",
      "1  Daniel McWilliams  The Animal    15      37      0     185.42   \n",
      "2         Dan Molina         NaN    13       9      0     177.80   \n",
      "3          Paul Ruiz         NaN     7       4      0     167.64   \n",
      "4    Collin Huckbody      All In     8       2      0     190.50   \n",
      "\n",
      "   weight_in_kg  reach_in_cm    stance date_of_birth  \\\n",
      "0         92.99          NaN  Orthodox    1981-10-05   \n",
      "1         83.91          NaN       NaN           NaN   \n",
      "2         97.98          NaN       NaN           NaN   \n",
      "3         61.23          NaN       NaN           NaN   \n",
      "4         83.91       193.04  Orthodox    1994-09-29   \n",
      "\n",
      "   significant_strikes_landed_per_minute  significant_striking_accuracy  \\\n",
      "0                                   0.00                            0.0   \n",
      "1                                   3.36                           77.0   \n",
      "2                                   0.00                            0.0   \n",
      "3                                   1.40                           33.0   \n",
      "4                                   2.05                           60.0   \n",
      "\n",
      "   significant_strikes_absorbed_per_minute  significant_strike_defence  \\\n",
      "0                                     0.00                         0.0   \n",
      "1                                     0.00                         0.0   \n",
      "2                                     5.58                        60.0   \n",
      "3                                     1.40                        75.0   \n",
      "4                                     2.73                        42.0   \n",
      "\n",
      "   average_takedowns_landed_per_15_minutes  takedown_accuracy  \\\n",
      "0                                     7.32              100.0   \n",
      "1                                     0.00                0.0   \n",
      "2                                     0.00                0.0   \n",
      "3                                     0.00                0.0   \n",
      "4                                    10.23              100.0   \n",
      "\n",
      "   takedown_defense  average_submissions_attempted_per_15_minutes  \n",
      "0               0.0                                          21.9  \n",
      "1             100.0                                          21.6  \n",
      "2               0.0                                          20.9  \n",
      "3             100.0                                          20.9  \n",
      "4               0.0                                          20.4  \n"
     ]
    }
   ],
   "source": [
    "# Example: load a CSV file into pandas\n",
    "file_path = os.path.join(path, \"ufc-fighters-statistics.csv\")  # update with the actual filename\n",
    "df1 = pd.read_csv(file_path)\n",
    "\n",
    "# Show the first few rows\n",
    "print(df.head())"
   ]
  },
  {
   "cell_type": "code",
   "execution_count": 7,
   "id": "08b5a2aa-0613-4613-a4c8-ab6235b3fc75",
   "metadata": {
    "execution": {
     "iopub.execute_input": "2025-08-24T12:54:00.841371Z",
     "iopub.status.busy": "2025-08-24T12:54:00.841371Z",
     "iopub.status.idle": "2025-08-24T12:54:01.150392Z",
     "shell.execute_reply": "2025-08-24T12:54:01.150392Z",
     "shell.execute_reply.started": "2025-08-24T12:54:00.841371Z"
    }
   },
   "outputs": [
    {
     "name": "stdout",
     "output_type": "stream",
     "text": [
      "Path to dataset files: C:\\Users\\admin\\.cache\\kagglehub\\datasets\\pvsk2211\\ufc-men-mma-all-fighters\\versions\\1\n",
      "Files in dataset: ['men.csv']\n"
     ]
    }
   ],
   "source": [
    "# Download latest version\n",
    "path = kagglehub.dataset_download(\"pvsk2211/ufc-men-mma-all-fighters\")\n",
    "\n",
    "print(\"Path to dataset files:\", path)\n",
    "\n",
    "# List files inside the dataset folder\n",
    "print(\"Files in dataset:\", os.listdir(path))"
   ]
  },
  {
   "cell_type": "code",
   "execution_count": 8,
   "id": "b0c98f4e-a3d8-4630-ba4d-512e5b5f5b98",
   "metadata": {
    "execution": {
     "iopub.execute_input": "2025-08-24T12:54:28.184715Z",
     "iopub.status.busy": "2025-08-24T12:54:28.184715Z",
     "iopub.status.idle": "2025-08-24T12:54:28.194596Z",
     "shell.execute_reply": "2025-08-24T12:54:28.194596Z",
     "shell.execute_reply.started": "2025-08-24T12:54:28.184715Z"
    }
   },
   "outputs": [
    {
     "name": "stdout",
     "output_type": "stream",
     "text": [
      "                 Nickname             Name            Weight Class  \\\n",
      "0                     NaN    Anthony Adams            Middleweight   \n",
      "1                     NaN      Scott Adams             Heavyweight   \n",
      "2              \"The Lion\"  Zarrukh Adashev              \"The Lion\"   \n",
      "3  \"The Last Stylebender\"  Israel Adesanya  \"The Last Stylebender\"   \n",
      "4                     NaN       Sam Adkins       Light Heavyweight   \n",
      "\n",
      "           Record  \n",
      "0   8-2-0 (W-L-D)  \n",
      "1   6-0-0 (W-L-D)  \n",
      "2   4-4-0 (W-L-D)  \n",
      "3  24-3-0 (W-L-D)  \n",
      "4   0-0-0 (W-L-D)  \n"
     ]
    }
   ],
   "source": [
    "# Example: load a CSV file into pandas\n",
    "file_path = os.path.join(path, \"men.csv\")  # update with the actual filename\n",
    "df2 = pd.read_csv(file_path)\n",
    "\n",
    "# Show the first few rows\n",
    "print(df2.head())"
   ]
  },
  {
   "cell_type": "code",
   "execution_count": 9,
   "id": "beac773e-aeb0-4856-826a-c09dc86d914c",
   "metadata": {
    "execution": {
     "iopub.execute_input": "2025-08-26T11:37:37.765435Z",
     "iopub.status.busy": "2025-08-26T11:37:37.765435Z",
     "iopub.status.idle": "2025-08-26T11:37:37.802204Z",
     "shell.execute_reply": "2025-08-26T11:37:37.800707Z",
     "shell.execute_reply.started": "2025-08-26T11:37:37.765435Z"
    }
   },
   "outputs": [
    {
     "name": "stdout",
     "output_type": "stream",
     "text": [
      "                        weightclass  Weight In Kg  \\\n",
      "0  Light Heavyweight (84.0–93.0 kg)         92.99   \n",
      "1  Light Heavyweight (84.0–93.0 kg)         83.91   \n",
      "2       Welterweight (70.4–77.1 kg)         70.31   \n",
      "3           Heavyweight (>=93.1 kg)        120.20   \n",
      "4  Light Heavyweight (84.0–93.0 kg)         83.91   \n",
      "\n",
      "   Average Submissions Attempted Per 15 Minutes  \\\n",
      "0                                          21.9   \n",
      "1                                          20.4   \n",
      "2                                          16.4   \n",
      "3                                          14.3   \n",
      "4                                          13.8   \n",
      "\n",
      "   Average Takedowns Landed Per 15 Minutes Date Of Birth  Draws  Height Cm  \\\n",
      "0                                     7.32     10/5/1981      0     190.50   \n",
      "1                                    10.23     9/29/1994      0     190.50   \n",
      "2                                     0.00      3/1/1979      0     175.26   \n",
      "3                                     0.00     1/18/1971      1     198.12   \n",
      "4                                    11.04     1/14/1996      0     185.42   \n",
      "\n",
      "   Losses              Name   Nickname  Reach In Cm  \\\n",
      "0       0   Robert Drysdale        NaN          NaN   \n",
      "1       2   Collin Huckbody   \"All In\"       193.04   \n",
      "2       7  Gerald Strebendt        NaN          NaN   \n",
      "3       8        Neil Grove  \"Goliath\"          NaN   \n",
      "4       0         Bo Nickal        NaN       193.04   \n",
      "\n",
      "   Significant Strike Defence  Significant Strikes Absorbed Per Minute  \\\n",
      "0                           0                                     0.00   \n",
      "1                          42                                     2.73   \n",
      "2                          38                                     4.00   \n",
      "3                           0                                     0.00   \n",
      "4                          75                                     0.55   \n",
      "\n",
      "   Significant Strikes Landed Per Minute  Significant Striking Accuracy  \\\n",
      "0                                   0.00                              0   \n",
      "1                                   2.05                             60   \n",
      "2                                   0.00                              0   \n",
      "3                                   0.00                              0   \n",
      "4                                   2.76                             62   \n",
      "\n",
      "     Stance  Takedown Accuracy  Takedown Defense  Wins  \n",
      "0  Orthodox                100                 0     7  \n",
      "1  Orthodox                100                 0     8  \n",
      "2  Orthodox                  0                 0     9  \n",
      "3  Orthodox                  0               100    12  \n",
      "4  Southpaw                 50                 0     5  \n"
     ]
    }
   ],
   "source": [
    "df3 = pd.read_csv(\"ufcmenstats_fromtableau.csv\")\n",
    "print(df3.head())"
   ]
  },
  {
   "cell_type": "code",
   "execution_count": null,
   "id": "994243de-452a-4dfe-b4c2-ea9cd50d44a7",
   "metadata": {},
   "outputs": [],
   "source": []
  }
 ],
 "metadata": {
  "kernelspec": {
   "display_name": "Python 3 (ipykernel)",
   "language": "python",
   "name": "python3"
  },
  "language_info": {
   "codemirror_mode": {
    "name": "ipython",
    "version": 3
   },
   "file_extension": ".py",
   "mimetype": "text/x-python",
   "name": "python",
   "nbconvert_exporter": "python",
   "pygments_lexer": "ipython3",
   "version": "3.12.9"
  }
 },
 "nbformat": 4,
 "nbformat_minor": 5
}
